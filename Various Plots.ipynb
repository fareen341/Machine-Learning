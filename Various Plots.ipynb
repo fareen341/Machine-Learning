{
 "cells": [
  {
   "cell_type": "markdown",
   "metadata": {},
   "source": [
    "# Bar Plot"
   ]
  },
  {
   "cell_type": "code",
   "execution_count": 3,
   "metadata": {
    "scrolled": true
   },
   "outputs": [
    {
     "data": {
      "text/html": [
       "<div>\n",
       "<style scoped>\n",
       "    .dataframe tbody tr th:only-of-type {\n",
       "        vertical-align: middle;\n",
       "    }\n",
       "\n",
       "    .dataframe tbody tr th {\n",
       "        vertical-align: top;\n",
       "    }\n",
       "\n",
       "    .dataframe thead th {\n",
       "        text-align: right;\n",
       "    }\n",
       "</style>\n",
       "<table border=\"1\" class=\"dataframe\">\n",
       "  <thead>\n",
       "    <tr style=\"text-align: right;\">\n",
       "      <th></th>\n",
       "      <th>Country</th>\n",
       "      <th>Corruption_Index</th>\n",
       "      <th>Gini_Index</th>\n",
       "    </tr>\n",
       "  </thead>\n",
       "  <tbody>\n",
       "    <tr>\n",
       "      <th>0</th>\n",
       "      <td>Hong Kong</td>\n",
       "      <td>77</td>\n",
       "      <td>53.7</td>\n",
       "    </tr>\n",
       "    <tr>\n",
       "      <th>1</th>\n",
       "      <td>South Korea</td>\n",
       "      <td>53</td>\n",
       "      <td>30.2</td>\n",
       "    </tr>\n",
       "    <tr>\n",
       "      <th>2</th>\n",
       "      <td>China</td>\n",
       "      <td>40</td>\n",
       "      <td>46.2</td>\n",
       "    </tr>\n",
       "    <tr>\n",
       "      <th>3</th>\n",
       "      <td>Italy</td>\n",
       "      <td>47</td>\n",
       "      <td>32.7</td>\n",
       "    </tr>\n",
       "    <tr>\n",
       "      <th>4</th>\n",
       "      <td>Mongolia</td>\n",
       "      <td>38</td>\n",
       "      <td>36.5</td>\n",
       "    </tr>\n",
       "  </tbody>\n",
       "</table>\n",
       "</div>"
      ],
      "text/plain": [
       "       Country  Corruption_Index  Gini_Index\n",
       "0    Hong Kong                77        53.7\n",
       "1  South Korea                53        30.2\n",
       "2        China                40        46.2\n",
       "3        Italy                47        32.7\n",
       "4     Mongolia                38        36.5"
      ]
     },
     "execution_count": 3,
     "metadata": {},
     "output_type": "execute_result"
    }
   ],
   "source": [
    "#bar-plot show comparisons between categories of data\n",
    "import matplotlib.pyplot as plt\n",
    "import seaborn as sn\n",
    "%matplotlib inline\n",
    "import pandas as pd\n",
    "ipl=pd.read_csv('country.csv')\n",
    "ipl[0:5]"
   ]
  },
  {
   "cell_type": "code",
   "execution_count": 4,
   "metadata": {},
   "outputs": [
    {
     "data": {
      "image/png": "[encoded data removed]",
      "text/plain": [
       "<Figure size 432x288 with 1 Axes>"
      ]
     },
     "metadata": {
      "needs_background": "light"
     },
     "output_type": "display_data"
    }
   ],
   "source": [
    "sn.barplot(x = 'Corruption_Index', y = 'Gini_Index', data = ipl);"
   ]
  },
  {
   "cell_type": "markdown",
   "metadata": {},
   "source": [
    "# Histogram"
   ]
  },
  {
   "cell_type": "code",
   "execution_count": 5,
   "metadata": {},
   "outputs": [
    {
     "name": "stdout",
     "output_type": "stream",
     "text": [
      "   name  dts\n",
      "0    n1    1\n",
      "1    n2    2\n",
      "2    n3    3\n",
      "3    n4    4\n",
      "4    n5    5\n",
      "5    n6    6\n",
      "6    n7    7\n",
      "7    n8    8\n",
      "8    n9    9\n",
      "9   n10   10\n",
      "10  n11   60\n",
      "11  n12   80\n",
      "12  n13  100\n"
     ]
    },
    {
     "data": {
      "text/plain": [
       "'Histogram\\ngives an insight into the underlying distribution (e.g., normal distribution) of the variable, outliers, skewness, etc. \\n\\nby looking at the below fig \\n'"
      ]
     },
     "execution_count": 5,
     "metadata": {},
     "output_type": "execute_result"
    },
    {
     "data": {
      "image/png": "[encoded data removed]",
      "text/plain": [
       "<Figure size 432x288 with 1 Axes>"
      ]
     },
     "metadata": {
      "needs_background": "light"
     },
     "output_type": "display_data"
    }
   ],
   "source": [
    "#histogram\n",
    "import pandas as pd\n",
    "hist=pd.DataFrame(data=[['n1',1],['n2',2],['n3',3],['n4',4],['n5',5],['n6',6],['n7',7],['n8',8],['n9',9],['n10',10],\n",
    "                      ['n11',60],['n12',80],['n13',100]],columns=['name','dts'])\n",
    "print(hist)\n",
    "plt.hist( hist[\"dts\"], bins = 30 );\n",
    "\n",
    "'''Histogram\n",
    "gives an insight into the underlying distribution (e.g., normal distribution) of the variable, outliers, skewness, etc. \n",
    "\n",
    "by looking at the below fig \n",
    "'''\n",
    "\n"
   ]
  },
  {
   "cell_type": "markdown",
   "metadata": {},
   "source": [
    "# Density plot"
   ]
  },
  {
   "cell_type": "code",
   "execution_count": 6,
   "metadata": {},
   "outputs": [
    {
     "data": {
      "text/plain": [
       "'It show the distribution of the data.\\nIt uses a kernel density estimate to show the probability density function of the variable .'"
      ]
     },
     "execution_count": 6,
     "metadata": {},
     "output_type": "execute_result"
    },
    {
     "data": {
      "image/png": "[encoded data removed]",
      "text/plain": [
       "<Figure size 432x288 with 1 Axes>"
      ]
     },
     "metadata": {
      "needs_background": "light"
     },
     "output_type": "display_data"
    }
   ],
   "source": [
    "#Distribution or Density Plot\n",
    "sn.distplot(hist[\"dts\"]);\n",
    "\n",
    "'''It show the distribution of the data.\n",
    "It uses a kernel density estimate to show the probability density function of the variable .'''"
   ]
  },
  {
   "cell_type": "markdown",
   "metadata": {},
   "source": [
    "# Box Plot"
   ]
  },
  {
   "cell_type": "code",
   "execution_count": 7,
   "metadata": {},
   "outputs": [
    {
     "data": {
      "text/plain": [
       "'it shows variability of the data and the existence of outliers\\n1. Lower quartile (1st quartile), median and upper quartile (3rd quartile).\\n2. Lowest and highest values.\\n3. Inter-quartile range (IQR). \\n\\nseeing the below figure 60,80,100 is clearly an outlier.\\n'"
      ]
     },
     "execution_count": 7,
     "metadata": {},
     "output_type": "execute_result"
    },
    {
     "data": {
      "image/png": "[encoded data removed]",
      "text/plain": [
       "<Figure size 432x288 with 1 Axes>"
      ]
     },
     "metadata": {
      "needs_background": "light"
     },
     "output_type": "display_data"
    }
   ],
   "source": [
    "#box plot\n",
    "box = sn.boxplot(hist[\"dts\"]);\n",
    "\n",
    "'''it shows variability of the data and the existence of outliers\n",
    "1. Lower quartile (1st quartile), median and upper quartile (3rd quartile).\n",
    "2. Lowest and highest values.\n",
    "3. Inter-quartile range (IQR). \n",
    "\n",
    "seeing the below figure 60,80,100 is clearly an outlier.\n",
    "'''\n"
   ]
  },
  {
   "cell_type": "code",
   "execution_count": 9,
   "metadata": {},
   "outputs": [
    {
     "data": {
      "image/png": "[encoded data removed]",
      "text/plain": [
       "<Figure size 432x288 with 1 Axes>"
      ]
     },
     "metadata": {
      "needs_background": "light"
     },
     "output_type": "display_data"
    }
   ],
   "source": [
    "box = plt.boxplot(hist[\"dts\"]);"
   ]
  },
  {
   "cell_type": "code",
   "execution_count": 10,
   "metadata": {},
   "outputs": [
    {
     "data": {
      "text/plain": [
       "[1.0, 10.0]"
      ]
     },
     "execution_count": 10,
     "metadata": {},
     "output_type": "execute_result"
    }
   ],
   "source": [
    "\n",
    "[item.get_ydata()[0] for item in box[\"caps\"]]\n",
    "\n",
    "#conclusion:by looking the output we say the min value is 1.0 and max is 10.0"
   ]
  },
  {
   "cell_type": "code",
   "execution_count": 42,
   "metadata": {},
   "outputs": [
    {
     "data": {
      "text/plain": [
       "[4.0, 10.0]"
      ]
     },
     "execution_count": 42,
     "metadata": {},
     "output_type": "execute_result"
    }
   ],
   "source": [
    "[item.get_ydata()[0] for item in box['whiskers']]\n",
    "\n",
    "#conclusion: The whiskers key in box variable returns the values of the distribution at 25 and 75 quantiles. Here the\n",
    "#min value is 4.0 and max is 10.0."
   ]
  },
  {
   "cell_type": "code",
   "execution_count": 12,
   "metadata": {},
   "outputs": [
    {
     "data": {
      "text/plain": [
       "[7.0]"
      ]
     },
     "execution_count": 12,
     "metadata": {},
     "output_type": "execute_result"
    }
   ],
   "source": [
    "[item.get_ydata()[0] for item in box['medians']]\n",
    "'''\n",
    "Conclusion: 75 quartile - 25 qartile=IQR\n",
    "So, inter-quartile range (IQR) is 10.0-4.0 = 7.0.\n",
    "The medians key in box variable returns the median value of the distribution. Here the median value\n",
    "is 7.0\n",
    "\n",
    "data = 1 2 3 4 5 6 (7) 8 9 10,60,80,100\n",
    "'''\n"
   ]
  },
  {
   "cell_type": "code",
   "execution_count": 13,
   "metadata": {},
   "outputs": [
    {
     "data": {
      "text/html": [
       "<div>\n",
       "<style scoped>\n",
       "    .dataframe tbody tr th:only-of-type {\n",
       "        vertical-align: middle;\n",
       "    }\n",
       "\n",
       "    .dataframe tbody tr th {\n",
       "        vertical-align: top;\n",
       "    }\n",
       "\n",
       "    .dataframe thead th {\n",
       "        text-align: right;\n",
       "    }\n",
       "</style>\n",
       "<table border=\"1\" class=\"dataframe\">\n",
       "  <thead>\n",
       "    <tr style=\"text-align: right;\">\n",
       "      <th></th>\n",
       "      <th>name</th>\n",
       "    </tr>\n",
       "  </thead>\n",
       "  <tbody>\n",
       "    <tr>\n",
       "      <th>10</th>\n",
       "      <td>n11</td>\n",
       "    </tr>\n",
       "    <tr>\n",
       "      <th>11</th>\n",
       "      <td>n12</td>\n",
       "    </tr>\n",
       "    <tr>\n",
       "      <th>12</th>\n",
       "      <td>n13</td>\n",
       "    </tr>\n",
       "  </tbody>\n",
       "</table>\n",
       "</div>"
      ],
      "text/plain": [
       "   name\n",
       "10  n11\n",
       "11  n12\n",
       "12  n13"
      ]
     },
     "execution_count": 13,
     "metadata": {},
     "output_type": "execute_result"
    }
   ],
   "source": [
    "hist[hist[\"dts\"] > 50][['name']]\n",
    "\n",
    "'''\n",
    "conclusion: The box plot in Figure 1 of box plot shows that some of the data(dts) are auctioned , which seem to\n",
    "be outliers. Let us find out the data names. '''"
   ]
  },
  {
   "cell_type": "code",
   "execution_count": 14,
   "metadata": {},
   "outputs": [
    {
     "name": "stdout",
     "output_type": "stream",
     "text": [
      "   name  dts\n",
      "0     n    1\n",
      "1     n    2\n",
      "2     n    3\n",
      "3     n    4\n",
      "4     n    5\n",
      "5     n    6\n",
      "6     n    7\n",
      "7     n    8\n",
      "8     n    9\n",
      "9     n   10\n",
      "10    n   60\n",
      "11    n   80\n",
      "12    n  100\n",
      "13    p    1\n",
      "14    p    2\n",
      "15    p    3\n",
      "16    p    4\n",
      "17    p    5\n",
      "18    p    6\n",
      "19    p    7\n",
      "20    p    8\n",
      "21    p    9\n",
      "22    p   10\n",
      "23    p   60\n",
      "24    p   80\n",
      "25    p  100\n"
     ]
    }
   ],
   "source": [
    "import pandas as pd\n",
    "hist1=pd.DataFrame(data=[['n',1],['n',2],['n',3],['n',4],['n',5],['n',6],['n',7],['n',8],['n',9],['n',10],\n",
    "                      ['n',60],['n',80],['n',100],['p',1],['p',2],['p',3],['p',4],\n",
    "                         ['p',5],['p',6],['p',7],['p',8],['p',9],['p',10],\n",
    "                      ['p',60],['p',80],['p',100]],columns=['name','dts'])\n",
    "print(hist1)"
   ]
  },
  {
   "cell_type": "code",
   "execution_count": null,
   "metadata": {},
   "outputs": [],
   "source": []
  },
  {
   "cell_type": "code",
   "execution_count": 15,
   "metadata": {},
   "outputs": [
    {
     "data": {
      "image/png": "[encoded data removed]",
      "text/plain": [
       "<Figure size 432x288 with 1 Axes>"
      ]
     },
     "metadata": {
      "needs_background": "light"
     },
     "output_type": "display_data"
    }
   ],
   "source": [
    "sn.boxplot(x = 'name', y = 'dts',data = hist1);\n",
    "\n",
    "#conclusion : it clearly shows both n and p has outliers(60,80,100)"
   ]
  },
  {
   "cell_type": "markdown",
   "metadata": {},
   "source": [
    "# Scatter Plot"
   ]
  },
  {
   "cell_type": "code",
   "execution_count": 16,
   "metadata": {},
   "outputs": [
    {
     "name": "stdout",
     "output_type": "stream",
     "text": [
      "    year  sale\n",
      "0   2010     1\n",
      "1   2011     2\n",
      "2   2012     3\n",
      "3   2013     0\n",
      "4   2014     8\n",
      "5   2015     6\n",
      "6   2016   100\n",
      "7   2017     3\n",
      "8   2018     1\n",
      "9   2019     0\n",
      "10  2020     8\n"
     ]
    }
   ],
   "source": [
    "#scatter plot\n",
    "json=[{'year':2010,'sale':1},{'year':2011,'sale':2},{'year':2012,'sale':3},{'year':2013,'sale':0},{'year':2014,'sale':8},\n",
    "     {'year':2015,'sale':6},{'year':2016,'sale':100},{'year':2017,'sale':3},{'year':2018,'sale':1},{'year':2019,'sale':0},\n",
    "      {'year':2020,'sale':8}]\n",
    "sales=pd.DataFrame(data=json,columns=['year','sale'])\n",
    "print(sales)"
   ]
  },
  {
   "cell_type": "code",
   "execution_count": 17,
   "metadata": {},
   "outputs": [
    {
     "data": {
      "image/png": "[encoded data removed]",
      "text/plain": [
       "<Figure size 432x288 with 1 Axes>"
      ]
     },
     "metadata": {
      "needs_background": "light"
     },
     "output_type": "display_data"
    }
   ],
   "source": [
    "plt.scatter(x = sales['year'],y = sales['sale']);"
   ]
  },
  {
   "cell_type": "markdown",
   "metadata": {},
   "source": [
    "# Regplot"
   ]
  },
  {
   "cell_type": "code",
   "execution_count": 18,
   "metadata": {},
   "outputs": [
    {
     "data": {
      "image/png": "[encoded data removed]",
      "text/plain": [
       "<Figure size 432x288 with 1 Axes>"
      ]
     },
     "metadata": {
      "needs_background": "light"
     },
     "output_type": "display_data"
    }
   ],
   "source": [
    "sn.regplot( x = sales['year'],y = sales['sale'],data = sales );\n",
    "\n",
    "#conclusion: it shows the data is positively correlated"
   ]
  },
  {
   "cell_type": "code",
   "execution_count": 19,
   "metadata": {},
   "outputs": [
    {
     "name": "stdout",
     "output_type": "stream",
     "text": [
      "    year  sale\n",
      "0   2010    10\n",
      "1   2011     9\n",
      "2   2012     8\n",
      "3   2013     7\n",
      "4   2014     7\n",
      "5   2015     6\n",
      "6   2016     7\n",
      "7   2017     5\n",
      "8   2018     1\n",
      "9   2019     0\n",
      "10  2020     1\n"
     ]
    }
   ],
   "source": [
    "json=[{'year':2010,'sale':10},{'year':2011,'sale':9},{'year':2012,'sale':8},{'year':2013,'sale':7},{'year':2014,'sale':7},\n",
    "     {'year':2015,'sale':6},{'year':2016,'sale':7},{'year':2017,'sale':5},{'year':2018,'sale':1},{'year':2019,'sale':0},\n",
    "      {'year':2020,'sale':1}]\n",
    "sales1=pd.DataFrame(data=json,columns=['year','sale'])\n",
    "print(sales1)"
   ]
  },
  {
   "cell_type": "markdown",
   "metadata": {},
   "source": []
  },
  {
   "cell_type": "code",
   "execution_count": 20,
   "metadata": {},
   "outputs": [
    {
     "data": {
      "image/png": "[encoded data removed]",
      "text/plain": [
       "<Figure size 432x288 with 1 Axes>"
      ]
     },
     "metadata": {
      "needs_background": "light"
     },
     "output_type": "display_data"
    }
   ],
   "source": [
    "sn.regplot( x = sales1['year'],y = sales1['sale'],data = sales1 );\n",
    "\n",
    "#conclusion : it shows the data is negatively correlated meaning as the year increases sales decreases"
   ]
  },
  {
   "cell_type": "markdown",
   "metadata": {},
   "source": [
    "# Pair Plot"
   ]
  },
  {
   "cell_type": "code",
   "execution_count": 21,
   "metadata": {},
   "outputs": [
    {
     "data": {
      "text/html": [
       "<div>\n",
       "<style scoped>\n",
       "    .dataframe tbody tr th:only-of-type {\n",
       "        vertical-align: middle;\n",
       "    }\n",
       "\n",
       "    .dataframe tbody tr th {\n",
       "        vertical-align: top;\n",
       "    }\n",
       "\n",
       "    .dataframe thead th {\n",
       "        text-align: right;\n",
       "    }\n",
       "</style>\n",
       "<table border=\"1\" class=\"dataframe\">\n",
       "  <thead>\n",
       "    <tr style=\"text-align: right;\">\n",
       "      <th></th>\n",
       "      <th>name</th>\n",
       "      <th>calories</th>\n",
       "      <th>sodium</th>\n",
       "      <th>alcohol</th>\n",
       "      <th>cost</th>\n",
       "    </tr>\n",
       "  </thead>\n",
       "  <tbody>\n",
       "    <tr>\n",
       "      <th>0</th>\n",
       "      <td>Budweiser</td>\n",
       "      <td>144</td>\n",
       "      <td>15</td>\n",
       "      <td>4.7</td>\n",
       "      <td>0.43</td>\n",
       "    </tr>\n",
       "    <tr>\n",
       "      <th>1</th>\n",
       "      <td>Schlitz</td>\n",
       "      <td>151</td>\n",
       "      <td>19</td>\n",
       "      <td>4.9</td>\n",
       "      <td>0.43</td>\n",
       "    </tr>\n",
       "    <tr>\n",
       "      <th>2</th>\n",
       "      <td>Lowenbrau</td>\n",
       "      <td>157</td>\n",
       "      <td>15</td>\n",
       "      <td>0.9</td>\n",
       "      <td>0.48</td>\n",
       "    </tr>\n",
       "    <tr>\n",
       "      <th>3</th>\n",
       "      <td>Kronenbourg</td>\n",
       "      <td>170</td>\n",
       "      <td>7</td>\n",
       "      <td>5.2</td>\n",
       "      <td>0.73</td>\n",
       "    </tr>\n",
       "    <tr>\n",
       "      <th>4</th>\n",
       "      <td>Heineken</td>\n",
       "      <td>152</td>\n",
       "      <td>11</td>\n",
       "      <td>5.0</td>\n",
       "      <td>0.77</td>\n",
       "    </tr>\n",
       "  </tbody>\n",
       "</table>\n",
       "</div>"
      ],
      "text/plain": [
       "          name  calories  sodium  alcohol  cost\n",
       "0    Budweiser       144      15      4.7  0.43\n",
       "1      Schlitz       151      19      4.9  0.43\n",
       "2    Lowenbrau       157      15      0.9  0.48\n",
       "3  Kronenbourg       170       7      5.2  0.73\n",
       "4     Heineken       152      11      5.0  0.77"
      ]
     },
     "execution_count": 21,
     "metadata": {},
     "output_type": "execute_result"
    }
   ],
   "source": [
    "dt=pd.read_csv('beer.csv')\n",
    "dt[0:5]"
   ]
  },
  {
   "cell_type": "code",
   "execution_count": 22,
   "metadata": {},
   "outputs": [],
   "source": [
    "influential_features = [\"calories\",\"sodium\",\"alcohol\",\"cost\"]"
   ]
  },
  {
   "cell_type": "code",
   "execution_count": 38,
   "metadata": {},
   "outputs": [
    {
     "name": "stderr",
     "output_type": "stream",
     "text": [
      "C:\\Users\\faree\\anaconda3\\lib\\site-packages\\seaborn\\axisgrid.py:2071: UserWarning: The `size` parameter has been renamed to `height`; please update your code.\n",
      "  warnings.warn(msg, UserWarning)\n"
     ]
    },
    {
     "data": {
      "text/plain": [
       "<seaborn.axisgrid.PairGrid at 0x26e4a9bf640>"
      ]
     },
     "execution_count": 38,
     "metadata": {},
     "output_type": "execute_result"
    },
    {
     "data": {
      "image/png": "[encoded data removed]",
      "text/plain": [
       "<Figure size 576x576 with 20 Axes>"
      ]
     },
     "metadata": {
      "needs_background": "light"
     },
     "output_type": "display_data"
    }
   ],
   "source": [
    "sn.pairplot(dt[influential_features], size=2)"
   ]
  },
  {
   "cell_type": "markdown",
   "metadata": {},
   "source": [
    "# Correlation and Heatmap"
   ]
  },
  {
   "cell_type": "code",
   "execution_count": 23,
   "metadata": {},
   "outputs": [
    {
     "data": {
      "text/html": [
       "<div>\n",
       "<style scoped>\n",
       "    .dataframe tbody tr th:only-of-type {\n",
       "        vertical-align: middle;\n",
       "    }\n",
       "\n",
       "    .dataframe tbody tr th {\n",
       "        vertical-align: top;\n",
       "    }\n",
       "\n",
       "    .dataframe thead th {\n",
       "        text-align: right;\n",
       "    }\n",
       "</style>\n",
       "<table border=\"1\" class=\"dataframe\">\n",
       "  <thead>\n",
       "    <tr style=\"text-align: right;\">\n",
       "      <th></th>\n",
       "      <th>calories</th>\n",
       "      <th>sodium</th>\n",
       "      <th>alcohol</th>\n",
       "      <th>cost</th>\n",
       "    </tr>\n",
       "  </thead>\n",
       "  <tbody>\n",
       "    <tr>\n",
       "      <th>calories</th>\n",
       "      <td>1.000000</td>\n",
       "      <td>0.415271</td>\n",
       "      <td>0.486213</td>\n",
       "      <td>0.328140</td>\n",
       "    </tr>\n",
       "    <tr>\n",
       "      <th>sodium</th>\n",
       "      <td>0.415271</td>\n",
       "      <td>1.000000</td>\n",
       "      <td>0.223025</td>\n",
       "      <td>-0.432573</td>\n",
       "    </tr>\n",
       "    <tr>\n",
       "      <th>alcohol</th>\n",
       "      <td>0.486213</td>\n",
       "      <td>0.223025</td>\n",
       "      <td>1.000000</td>\n",
       "      <td>0.259292</td>\n",
       "    </tr>\n",
       "    <tr>\n",
       "      <th>cost</th>\n",
       "      <td>0.328140</td>\n",
       "      <td>-0.432573</td>\n",
       "      <td>0.259292</td>\n",
       "      <td>1.000000</td>\n",
       "    </tr>\n",
       "  </tbody>\n",
       "</table>\n",
       "</div>"
      ],
      "text/plain": [
       "          calories    sodium   alcohol      cost\n",
       "calories  1.000000  0.415271  0.486213  0.328140\n",
       "sodium    0.415271  1.000000  0.223025 -0.432573\n",
       "alcohol   0.486213  0.223025  1.000000  0.259292\n",
       "cost      0.328140 -0.432573  0.259292  1.000000"
      ]
     },
     "execution_count": 23,
     "metadata": {},
     "output_type": "execute_result"
    }
   ],
   "source": [
    "#Correlation\n",
    "dt[influential_features].corr()"
   ]
  },
  {
   "cell_type": "code",
   "execution_count": 25,
   "metadata": {},
   "outputs": [
    {
     "data": {
      "image/png": "[encoded data removed]",
      "text/plain": [
       "<Figure size 432x288 with 2 Axes>"
      ]
     },
     "metadata": {
      "needs_background": "light"
     },
     "output_type": "display_data"
    }
   ],
   "source": [
    "#heatmap\n",
    "sn.heatmap(dt[influential_features].corr(), annot=True);\n",
    "\n",
    "#conclusion: the light colour represent +ve correlation and dark color represent -ve correlation"
   ]
  },
  {
   "cell_type": "code",
   "execution_count": null,
   "metadata": {},
   "outputs": [],
   "source": []
  },
  {
   "cell_type": "code",
   "execution_count": null,
   "metadata": {},
   "outputs": [],
   "source": []
  },
  {
   "cell_type": "code",
   "execution_count": null,
   "metadata": {},
   "outputs": [],
   "source": []
  }
 ],
 "metadata": {
  "kernelspec": {
   "display_name": "Python 3",
   "language": "python",
   "name": "python3"
  },
  "language_info": {
   "codemirror_mode": {
    "name": "ipython",
    "version": 3
   },
   "file_extension": ".py",
   "mimetype": "text/x-python",
   "name": "python",
   "nbconvert_exporter": "python",
   "pygments_lexer": "ipython3",
   "version": "3.8.3"
  }
 },
 "nbformat": 4,
 "nbformat_minor": 4
}
