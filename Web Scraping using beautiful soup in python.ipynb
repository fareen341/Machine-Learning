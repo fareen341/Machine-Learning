{
 "cells": [
  {
   "cell_type": "code",
   "execution_count": null,
   "metadata": {},
   "outputs": [],
   "source": [
    "import requests\n",
    "from bs4 import BeautifulSoup\n",
    "import html5lib\n",
    "\n",
    "#Get the HTML content from the web page\n",
    "news1=requests.get(\"https://timesofindia.indiatimes.com/briefs\")\n",
    "\n",
    "#Parsing the HTML content\n",
    "soup1=BeautifulSoup(news1.content, 'html5lib')\n",
    "\n",
    "#grab the headline\n",
    "toi_headings=soup1.find_all(\"h2\")\n",
    "\n",
    "#remove the first 2 heading which we dont need\n",
    "toi_headings=toi_headings[2:-13]\n",
    "\n",
    "#print the heading\n",
    "for h in toi_headings:\n",
    "    print(h.text)"
   ]
  }
 ],
 "metadata": {
  "kernelspec": {
   "display_name": "Python 3",
   "language": "python",
   "name": "python3"
  },
  "language_info": {
   "codemirror_mode": {
    "name": "ipython",
    "version": 3
   },
   "file_extension": ".py",
   "mimetype": "text/x-python",
   "name": "python",
   "nbconvert_exporter": "python",
   "pygments_lexer": "ipython3",
   "version": "3.8.3"
  }
 },
 "nbformat": 4,
 "nbformat_minor": 4
}
